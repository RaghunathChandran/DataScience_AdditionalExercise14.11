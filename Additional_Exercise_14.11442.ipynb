{
 "cells": [
  {
   "cell_type": "markdown",
   "metadata": {},
   "source": [
    "# Session 14: Additional Exercise - Raghunath"
   ]
  },
  {
   "cell_type": "markdown",
   "metadata": {},
   "source": [
    "## Problem Statement 1:"
   ]
  },
  {
   "cell_type": "markdown",
   "metadata": {},
   "source": [
    "    Let the continuous random variable D denote the diameter of the hole drilled in an aluminum sheet. The target diameter\n",
    "    to be achieved is 12.5mm. Random disturbances in the process often result in inaccuracy. Historical data shows that the\n",
    "    distribution of D can be modelled by the PDF, f(d) = 20e−20(d−12.5), d ≥ 12.5. If a part with diameter > 12.6 mm needs \n",
    "    to be scrapped, what is the proportion of those parts? What is the CDF when the diameter is of 11 mm? What is the\n",
    "    conclusion of this experiment?\n",
    "\n",
    "### Solution\n",
    "<img src=\"Solution11.jpg\" size=\"500px\"/>\n"
   ]
  },
  {
   "cell_type": "markdown",
   "metadata": {},
   "source": [
    "## Problem Statement 2:\n",
    "### Please compute the following:\n",
    "    a) P(Z>1.26), . P(Z<−0.86), P(Z>−1.37), P(−1.25<Z<0.37), . P(Z≤−4.6)\n",
    "    b) Find the value 𝑧 such that 𝑃(𝑍>𝑧)=0.05\n",
    "    c) Find the value of 𝑧 such that 𝑃(−𝑧<𝑍<𝑧)=0.99\n",
    "### Solution\n",
    "<img src=\"Solution21.jpg\" size=\"500px\"/>\n",
    "<img src=\"Solution22.jpg\" size=\"200px\"/>"
   ]
  },
  {
   "cell_type": "markdown",
   "metadata": {},
   "source": [
    "## Problem Statement 3: [100 marks]\n",
    "\n",
    "    The current flow in a copper wire follow a normal distribution with a mean of 10 𝑚A and a variance of 4 (𝑚𝐴)2. \n",
    "    What is the probability that a current measurement will exceed 13 𝑚𝐴? What is the probability that a current \n",
    "    measurement is between 9 and 11mA? Determine the current measurement which has a probability of 0.98.\n",
    "### Solution    \n",
    "<img src=\"Solution31.jpg\" size=\"500px\"/>\n",
    "<img src=\"Solution32.jpg\" size=\"500px\"/>"
   ]
  },
  {
   "cell_type": "markdown",
   "metadata": {},
   "source": [
    "## Problem Statement 4: [150 marks]\n",
    "    The shaft in a piston has its diameter normally distributed with a mean of 0.2508 inch and a standard deviation \n",
    "    of 0.0005 inch. The specifications of the shaft are 0.2500 ∓ 0.0015 inch. What proportion of shafts are in sync \n",
    "    with the specifications? If the process is centered so that the mean is equal to the target value of 0.2500, what\n",
    "    proportion of shafts conform to the new specifications? What is your conclusion from this experiment?\n",
    "### Solution    \n",
    "<img src=\"Solution41.jpg\" size=\"500px\"/>"
   ]
  },
  {
   "cell_type": "code",
   "execution_count": null,
   "metadata": {},
   "outputs": [],
   "source": []
  }
 ],
 "metadata": {
  "kernelspec": {
   "display_name": "Python 3",
   "language": "python",
   "name": "python3"
  },
  "language_info": {
   "codemirror_mode": {
    "name": "ipython",
    "version": 3
   },
   "file_extension": ".py",
   "mimetype": "text/x-python",
   "name": "python",
   "nbconvert_exporter": "python",
   "pygments_lexer": "ipython3",
   "version": "3.7.1"
  }
 },
 "nbformat": 4,
 "nbformat_minor": 2
}
